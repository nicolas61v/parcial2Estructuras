{
  "nbformat": 4,
  "nbformat_minor": 0,
  "metadata": {
    "colab": {
      "provenance": []
    },
    "kernelspec": {
      "name": "python3",
      "display_name": "Python 3"
    },
    "language_info": {
      "name": "python"
    }
  },
  "cells": [
    {
      "cell_type": "markdown",
      "source": [
        "# Ejercicio 1: Caminos en una Matriz con Obstáculos\n",
        "\n",
        "## Planteamiento del problema\n",
        "\n",
        "Dada una matriz m x n, donde algunas celdas tienen obstáculos (representados por un 1) y otras celdas están libres (representadas por un 0), se debe implementar un algoritmo que calcule cuántos caminos posibles existen desde la celda superior izquierda (0,0) hasta la celda inferior derecha (m-1, n-1). Solo se puede mover hacia la derecha o hacia abajo.\n",
        "\n",
        "- Entrada: Una matriz mxn que contiene 0's y 1's.\n",
        "- Salida: Un entero que represente el número de caminos posibles sin pasar por celdas con obstáculos.\n",
        "\n",
        "## Solución con código"
      ],
      "metadata": {
        "id": "j7HQj_TPK6YH"
      }
    },
    {
      "cell_type": "code",
      "source": [
        "import time\n",
        "\n",
        "def pathFinder(fila, columna, filas, columnas, arreglo_bidimensional):\n",
        "    if (columna == columnas - 1) and (fila == filas - 1):\n",
        "        return 1\n",
        "    elif (columna == columnas) or (fila == filas):\n",
        "        return 0\n",
        "    elif arreglo_bidimensional[fila][columna] == 1:\n",
        "        return 0\n",
        "    return pathFinder(fila, columna + 1, filas, columnas, arreglo_bidimensional) + \\\n",
        "           pathFinder(fila + 1, columna, filas, columnas, arreglo_bidimensional)\n",
        "\n",
        "# Ejemplo de uso\n",
        "matriz = [[0, 0, 0], [0, 1, 0], [0, 0, 0]]\n",
        "filas = len(matriz)\n",
        "columnas = len(matriz[0])\n",
        "\n",
        "inicio = time.time()\n",
        "resultado = pathFinder(0, 0, filas, columnas, matriz)\n",
        "fin = time.time()\n",
        "\n",
        "print(f\"Número de caminos posibles: {resultado}\")\n",
        "print(f\"Tiempo de ejecución: {fin - inicio:.6f} segundos\")"
      ],
      "metadata": {
        "colab": {
          "base_uri": "https://localhost:8080/"
        },
        "id": "iRw9oq2VLALT",
        "outputId": "4cf5b9e7-0949-4b1f-a270-84f03c8485d7"
      },
      "execution_count": null,
      "outputs": [
        {
          "output_type": "stream",
          "name": "stdout",
          "text": [
            "Número de caminos posibles: 2\n",
            "Tiempo de ejecución: 0.000099 segundos\n"
          ]
        }
      ]
    },
    {
      "cell_type": "markdown",
      "source": [
        "## Descripción del resultado y cómo se logró\n",
        "\n",
        "El algoritmo utiliza un enfoque recursivo de búsqueda en profundidad (DFS) para contar todos los caminos posibles desde la esquina superior izquierda hasta la esquina inferior derecha de la matriz.\n",
        "\n",
        "1. Si llegamos a la celda objetivo (esquina inferior derecha), hemos encontrado un camino válido y retornamos 1.\n",
        "2. Si nos salimos de los límites de la matriz, no es un camino válido y retornamos 0.\n",
        "3. Si encontramos un obstáculo (celda con valor 1), no podemos pasar por ahí y retornamos 0.\n",
        "4. En cualquier otro caso, exploramos recursivamente moviéndonos hacia la derecha y hacia abajo.\n",
        "5. Sumamos los caminos encontrados en ambas direcciones.\n",
        "\n",
        "Para la matriz de ejemplo [[0, 0, 0], [0, 1, 0], [0, 0, 0]], el resultado es 2 caminos posibles. Esto se logra evitando el obstáculo en el centro y encontrando dos rutas: una que va por arriba del obstáculo y otra por abajo.\n",
        "\n",
        "Este enfoque garantiza que se cuenten todos los caminos posibles respetando las reglas de movimiento y evitando los obstáculos.\n"
      ],
      "metadata": {
        "id": "6nNygSfZLV_R"
      }
    },
    {
      "cell_type": "markdown",
      "source": [
        "# Ejercicio 2: Subconjunto con Suma Mínima\n",
        "\n",
        "## Planteamiento del problema\n",
        "\n",
        "Dado un arreglo de números enteros A, se debe encontrar dos subconjuntos no vacíos tal que la diferencia absoluta entre la suma de los dos subconjuntos sea mínima. El objetivo es implementar un algoritmo que encuentre dicha diferencia mínima.\n",
        "\n",
        "- Entrada: Un arreglo de enteros A de tamaño n.\n",
        "- Salida: Un entero que represente la diferencia mínima entre las sumas de los dos subconjuntos.\n",
        "\n",
        "## Solución con código"
      ],
      "metadata": {
        "id": "Egsig5ccLlF8"
      }
    },
    {
      "cell_type": "code",
      "source": [
        "import time\n",
        "\n",
        "def diferencia_minima(A):\n",
        "    n = len(A)\n",
        "    S = sum(A)  # Suma total del arreglo\n",
        "    mitad = S // 2\n",
        "\n",
        "    # Inicializamos una tabla dp de tamaño (mitad + 1)\n",
        "    dp = [False] * (mitad + 1)\n",
        "    dp[0] = True  # Siempre podemos formar el subconjunto vacío con suma 0\n",
        "\n",
        "    # Llenar la tabla dp\n",
        "    for num in A:\n",
        "        for j in range(mitad, num - 1, -1):\n",
        "            dp[j] = dp[j] or dp[j - num]\n",
        "\n",
        "    # Buscar la suma más cercana a la mitad de S\n",
        "    for i in range(mitad, -1, -1):\n",
        "        if dp[i]:\n",
        "            suma_cercana = i\n",
        "            break\n",
        "\n",
        "    # La diferencia mínima será S - 2 * suma_cercana\n",
        "    return S - 2 * suma_cercana\n",
        "\n",
        "# Ejemplo de uso\n",
        "A = [1, 6, 11, 5]\n",
        "\n",
        "inicio = time.time()\n",
        "resultado = diferencia_minima(A)\n",
        "fin = time.time()\n",
        "\n",
        "print(f\"La diferencia mínima es: {resultado}\")\n",
        "print(f\"Tiempo de ejecución: {fin - inicio:.6f} segundos\")"
      ],
      "metadata": {
        "colab": {
          "base_uri": "https://localhost:8080/"
        },
        "id": "Rrea0W30LpMJ",
        "outputId": "fe8178aa-d7fe-46b5-e102-113e2a03930c"
      },
      "execution_count": null,
      "outputs": [
        {
          "output_type": "stream",
          "name": "stdout",
          "text": [
            "La diferencia mínima es: 1\n",
            "Tiempo de ejecución: 0.000091 segundos\n"
          ]
        }
      ]
    },
    {
      "cell_type": "markdown",
      "source": [
        "## Descripción del resultado y cómo se logró\n",
        "\n",
        "El algoritmo utiliza programación dinámica para encontrar la diferencia mínima entre las sumas de dos subconjuntos del arreglo dado.\n",
        "\n",
        "1. Calculamos la suma total del arreglo (S).\n",
        "2. Creamos una tabla de programación dinámica (dp) de tamaño S/2 + 1.\n",
        "3. Llenamos la tabla dp, donde dp[j] es True si podemos formar una suma j con un subconjunto de los números.\n",
        "4. Buscamos la suma más cercana a S/2 que podemos formar (suma_cercana).\n",
        "5. La diferencia mínima es S - 2 * suma_cercana.\n",
        "\n",
        "Para el arreglo de ejemplo [1, 6, 11, 5], el resultado es 1. Esto se logra dividiendo el arreglo en dos subconjuntos: [1, 11] y [6, 5]. La suma del primer subconjunto es 12, y la del segundo es 11, resultando en una diferencia mínima de 1.\n",
        "\n",
        "Este enfoque garantiza que encontramos la menor diferencia posible entre las sumas de dos subconjuntos del arreglo original.\n"
      ],
      "metadata": {
        "id": "EpKtNlz2LzAp"
      }
    },
    {
      "cell_type": "markdown",
      "source": [
        "# Ejercicio 3: Contando Subsecuencias con un Valor Dado\n",
        "\n",
        "## Planteamiento del problema\n",
        "\n",
        "Dado un arreglo de enteros, se debe encontrar el número total de subsecuencias no vacías cuya suma sea igual a un valor objetivo S. El algoritmo debe utilizar recursividad y optimizarse utilizando memoización con tablas hash.\n",
        "\n",
        "- Entrada: Un arreglo de enteros A de tamaño n, y un entero objetivo S.\n",
        "- Salida: Un entero que represente el número de subsecuencias que suman exactamente S.\n",
        "\n",
        "## Solución con código"
      ],
      "metadata": {
        "id": "dIgGSpQPL7FA"
      }
    },
    {
      "cell_type": "code",
      "source": [
        "import time\n",
        "\n",
        "def contar_subsecuencias_tabulacion(A, n, S):\n",
        "    dp = [[0 for _ in range(S + 1)] for _ in range(n + 1)]\n",
        "\n",
        "    # Si la suma es 0, hay una subsecuencia vacía\n",
        "    for i in range(n + 1):\n",
        "        dp[i][0] = 1\n",
        "\n",
        "    # Rellenamos la tabla\n",
        "    for i in range(1, n + 1):\n",
        "        for j in range(S + 1):\n",
        "            if A[i-1] <= j:\n",
        "                dp[i][j] = dp[i-1][j] + dp[i-1][j-A[i-1]]\n",
        "            else:\n",
        "                dp[i][j] = dp[i-1][j]\n",
        "\n",
        "    return dp[n][S]\n",
        "\n",
        "# Ejemplo de uso\n",
        "A = [2, 4, 6, 10]\n",
        "S = 16\n",
        "n = len(A)\n",
        "\n",
        "inicio = time.time()\n",
        "resultado = contar_subsecuencias_tabulacion(A, n, S)\n",
        "fin = time.time()\n",
        "\n",
        "print(f\"Número de subsecuencias que suman {S}: {resultado}\")\n",
        "print(f\"Tiempo de ejecución: {fin - inicio:.6f} segundos\")"
      ],
      "metadata": {
        "colab": {
          "base_uri": "https://localhost:8080/"
        },
        "id": "rCYVr4W7L_q8",
        "outputId": "7d91a37b-9bf1-4501-8899-15c026ad80c3"
      },
      "execution_count": null,
      "outputs": [
        {
          "output_type": "stream",
          "name": "stdout",
          "text": [
            "Número de subsecuencias que suman 16: 2\n",
            "Tiempo de ejecución: 0.001136 segundos\n"
          ]
        }
      ]
    },
    {
      "cell_type": "markdown",
      "source": [
        "## Descripción del resultado y cómo se logró\n",
        "\n",
        "El algoritmo utiliza programación dinámica con el enfoque de tabulación para contar el número de subsecuencias que suman el valor objetivo.\n",
        "\n",
        "1. Creamos una tabla 2D dp donde dp[ i ][ j ] representa el número de subsecuencias que suman j usando los primeros i elementos del arreglo.\n",
        "2. Inicializamos la primera columna con 1, ya que siempre hay una forma de obtener suma 0 (no seleccionando ningún elemento).\n",
        "3. Llenamos la tabla considerando dos casos para cada elemento:\n",
        "   a. No incluir el elemento actual: dp[i-1][ j ]\n",
        "   b. Incluir el elemento actual (si es posible): dp[i-1][j-A[i-1]\n",
        "4. Sumamos estos dos casos para obtener el número total de subsecuencias.\n",
        "5. El resultado final está en dp[n][S].\n",
        "\n",
        "Para el arreglo de ejemplo [2, 4, 6, 10] y suma objetivo 16, el resultado es 2. Esto se logra encontrando dos subsecuencias que suman 16: [6, 10] y [2, 4, 10].\n",
        "\n",
        "Este enfoque garantiza que contamos todas las subsecuencias posibles que suman el valor objetivo, utilizando programación dinámica para optimizar el proceso y evitar cálculos repetidos."
      ],
      "metadata": {
        "id": "mLiVkim0MJJK"
      }
    }
  ]
}